{
 "cells": [
  {
   "cell_type": "code",
   "execution_count": 12,
   "metadata": {},
   "outputs": [],
   "source": [
    "import requests\n",
    "from datetime import datetime, timedelta\n",
    "import yfinance as yf\n",
    "import pandas as pd\n",
    "import matplotlib.pyplot as plt\n",
    "import os\n",
    "from dotenv import load_dotenv"
   ]
  },
  {
   "cell_type": "code",
   "execution_count": 13,
   "metadata": {},
   "outputs": [],
   "source": [
    "polygon_api_key = os.getenv(\"POLYGON_API_KEY\")\n",
    "ticker = \"META\""
   ]
  },
  {
   "cell_type": "code",
   "execution_count": 14,
   "metadata": {},
   "outputs": [],
   "source": [
    "# Get date of earnings from 8 quarters ago\n",
    "tick = yf.Ticker(ticker)\n",
    "first_earnings = tick.earnings_dates.index[-1]"
   ]
  },
  {
   "cell_type": "code",
   "execution_count": 48,
   "metadata": {},
   "outputs": [],
   "source": [
    "res = requests.get(\n",
    "    f\"https://api.polygon.io/vX/reference/financials\",\n",
    "    params={\n",
    "        \"apiKey\": polygon_api_key, \n",
    "        \"ticker\": ticker, \n",
    "\n",
    "        \"limit\": 50\n",
    "    }\n",
    ")\n",
    "if res.status_code != 200:\n",
    "    print(\"Failed to fetch data: \", res.status_code)\n",
    "data = res.json()\n",
    "if \"results\" not in data:\n",
    "    print(\"No data found\")\n",
    "reports = data[\"results\"]"
   ]
  },
  {
   "cell_type": "code",
   "execution_count": 49,
   "metadata": {},
   "outputs": [],
   "source": [
    "def extract_quarter_financials(quarter: dict):\n",
    "    q = quarter[\"fiscal_period\"]\n",
    "    yr = quarter[\"fiscal_year\"]\n",
    "    eps = quarter[\"financials\"][\"income_statement\"][\"basic_earnings_per_share\"][\"value\"]\n",
    "    revenue = quarter[\"financials\"][\"income_statement\"][\"revenues\"][\"value\"]\n",
    "    income = quarter[\"financials\"][\"income_statement\"][\"income_loss_from_continuing_operations_before_tax\"][\"value\"]\n",
    "    return {\n",
    "        \"quarter\": q,\n",
    "        \"year\": yr,\n",
    "        \"eps\": eps,\n",
    "        \"revenue\": revenue,\n",
    "        \"income\": income\n",
    "    }\n"
   ]
  },
  {
   "cell_type": "code",
   "execution_count": 53,
   "metadata": {},
   "outputs": [
    {
     "data": {
      "text/plain": [
       "10"
      ]
     },
     "execution_count": 53,
     "metadata": {},
     "output_type": "execute_result"
    }
   ],
   "source": [
    "len(reports)"
   ]
  },
  {
   "cell_type": "code",
   "execution_count": 52,
   "metadata": {},
   "outputs": [
    {
     "data": {
      "text/html": [
       "<div>\n",
       "<style scoped>\n",
       "    .dataframe tbody tr th:only-of-type {\n",
       "        vertical-align: middle;\n",
       "    }\n",
       "\n",
       "    .dataframe tbody tr th {\n",
       "        vertical-align: top;\n",
       "    }\n",
       "\n",
       "    .dataframe thead th {\n",
       "        text-align: right;\n",
       "    }\n",
       "</style>\n",
       "<table border=\"1\" class=\"dataframe\">\n",
       "  <thead>\n",
       "    <tr style=\"text-align: right;\">\n",
       "      <th></th>\n",
       "      <th></th>\n",
       "      <th>eps</th>\n",
       "      <th>revenue</th>\n",
       "      <th>income</th>\n",
       "      <th>eps_yoy_change</th>\n",
       "      <th>revenue_yoy_change</th>\n",
       "      <th>income_yoy_change</th>\n",
       "      <th>fiscal_period</th>\n",
       "      <th>pre_tax_profit_margin</th>\n",
       "    </tr>\n",
       "    <tr>\n",
       "      <th>year</th>\n",
       "      <th>quarter</th>\n",
       "      <th></th>\n",
       "      <th></th>\n",
       "      <th></th>\n",
       "      <th></th>\n",
       "      <th></th>\n",
       "      <th></th>\n",
       "      <th></th>\n",
       "      <th></th>\n",
       "    </tr>\n",
       "  </thead>\n",
       "  <tbody>\n",
       "    <tr>\n",
       "      <th rowspan=\"2\" valign=\"top\">2024</th>\n",
       "      <th>Q2</th>\n",
       "      <td>5.31</td>\n",
       "      <td>3.907100e+10</td>\n",
       "      <td>1.510600e+10</td>\n",
       "      <td>18.000000</td>\n",
       "      <td>14.423359</td>\n",
       "      <td>7.746077</td>\n",
       "      <td>Q22024</td>\n",
       "      <td>38.662947</td>\n",
       "    </tr>\n",
       "    <tr>\n",
       "      <th>Q1</th>\n",
       "      <td>4.86</td>\n",
       "      <td>3.645500e+10</td>\n",
       "      <td>1.418300e+10</td>\n",
       "      <td>60.396040</td>\n",
       "      <td>13.925435</td>\n",
       "      <td>52.620252</td>\n",
       "      <td>Q12024</td>\n",
       "      <td>38.905500</td>\n",
       "    </tr>\n",
       "    <tr>\n",
       "      <th rowspan=\"5\" valign=\"top\">2023</th>\n",
       "      <th>Q4</th>\n",
       "      <td>5.46</td>\n",
       "      <td>4.011100e+10</td>\n",
       "      <td>1.680700e+10</td>\n",
       "      <td>147.058824</td>\n",
       "      <td>40.027928</td>\n",
       "      <td>130.012317</td>\n",
       "      <td>Q42023</td>\n",
       "      <td>41.901224</td>\n",
       "    </tr>\n",
       "    <tr>\n",
       "      <th>FY</th>\n",
       "      <td>15.19</td>\n",
       "      <td>1.349020e+11</td>\n",
       "      <td>4.742800e+10</td>\n",
       "      <td>76.013905</td>\n",
       "      <td>15.687468</td>\n",
       "      <td>64.571984</td>\n",
       "      <td>FY2023</td>\n",
       "      <td>35.157374</td>\n",
       "    </tr>\n",
       "    <tr>\n",
       "      <th>Q3</th>\n",
       "      <td>4.50</td>\n",
       "      <td>3.414600e+10</td>\n",
       "      <td>1.402000e+10</td>\n",
       "      <td>174.390244</td>\n",
       "      <td>23.208487</td>\n",
       "      <td>151.434720</td>\n",
       "      <td>Q32023</td>\n",
       "      <td>41.058982</td>\n",
       "    </tr>\n",
       "    <tr>\n",
       "      <th>Q2</th>\n",
       "      <td>3.03</td>\n",
       "      <td>3.199900e+10</td>\n",
       "      <td>9.293000e+09</td>\n",
       "      <td>22.672065</td>\n",
       "      <td>11.022830</td>\n",
       "      <td>13.523088</td>\n",
       "      <td>Q22023</td>\n",
       "      <td>29.041533</td>\n",
       "    </tr>\n",
       "    <tr>\n",
       "      <th>Q1</th>\n",
       "      <td>2.21</td>\n",
       "      <td>2.864500e+10</td>\n",
       "      <td>7.307000e+09</td>\n",
       "      <td>NaN</td>\n",
       "      <td>NaN</td>\n",
       "      <td>NaN</td>\n",
       "      <td>Q12023</td>\n",
       "      <td>25.508815</td>\n",
       "    </tr>\n",
       "    <tr>\n",
       "      <th rowspan=\"3\" valign=\"top\">2022</th>\n",
       "      <th>FY</th>\n",
       "      <td>8.63</td>\n",
       "      <td>1.166090e+11</td>\n",
       "      <td>2.881900e+10</td>\n",
       "      <td>NaN</td>\n",
       "      <td>NaN</td>\n",
       "      <td>NaN</td>\n",
       "      <td>FY2022</td>\n",
       "      <td>24.714216</td>\n",
       "    </tr>\n",
       "    <tr>\n",
       "      <th>Q3</th>\n",
       "      <td>1.64</td>\n",
       "      <td>2.771400e+10</td>\n",
       "      <td>5.576000e+09</td>\n",
       "      <td>NaN</td>\n",
       "      <td>NaN</td>\n",
       "      <td>NaN</td>\n",
       "      <td>Q32022</td>\n",
       "      <td>20.119795</td>\n",
       "    </tr>\n",
       "    <tr>\n",
       "      <th>Q2</th>\n",
       "      <td>2.47</td>\n",
       "      <td>2.882200e+10</td>\n",
       "      <td>8.186000e+09</td>\n",
       "      <td>NaN</td>\n",
       "      <td>NaN</td>\n",
       "      <td>NaN</td>\n",
       "      <td>Q22022</td>\n",
       "      <td>28.401915</td>\n",
       "    </tr>\n",
       "  </tbody>\n",
       "</table>\n",
       "</div>"
      ],
      "text/plain": [
       "                eps       revenue        income  eps_yoy_change  \\\n",
       "year quarter                                                      \n",
       "2024 Q2        5.31  3.907100e+10  1.510600e+10       18.000000   \n",
       "     Q1        4.86  3.645500e+10  1.418300e+10       60.396040   \n",
       "2023 Q4        5.46  4.011100e+10  1.680700e+10      147.058824   \n",
       "     FY       15.19  1.349020e+11  4.742800e+10       76.013905   \n",
       "     Q3        4.50  3.414600e+10  1.402000e+10      174.390244   \n",
       "     Q2        3.03  3.199900e+10  9.293000e+09       22.672065   \n",
       "     Q1        2.21  2.864500e+10  7.307000e+09             NaN   \n",
       "2022 FY        8.63  1.166090e+11  2.881900e+10             NaN   \n",
       "     Q3        1.64  2.771400e+10  5.576000e+09             NaN   \n",
       "     Q2        2.47  2.882200e+10  8.186000e+09             NaN   \n",
       "\n",
       "              revenue_yoy_change  income_yoy_change fiscal_period  \\\n",
       "year quarter                                                        \n",
       "2024 Q2                14.423359           7.746077        Q22024   \n",
       "     Q1                13.925435          52.620252        Q12024   \n",
       "2023 Q4                40.027928         130.012317        Q42023   \n",
       "     FY                15.687468          64.571984        FY2023   \n",
       "     Q3                23.208487         151.434720        Q32023   \n",
       "     Q2                11.022830          13.523088        Q22023   \n",
       "     Q1                      NaN                NaN        Q12023   \n",
       "2022 FY                      NaN                NaN        FY2022   \n",
       "     Q3                      NaN                NaN        Q32022   \n",
       "     Q2                      NaN                NaN        Q22022   \n",
       "\n",
       "              pre_tax_profit_margin  \n",
       "year quarter                         \n",
       "2024 Q2                   38.662947  \n",
       "     Q1                   38.905500  \n",
       "2023 Q4                   41.901224  \n",
       "     FY                   35.157374  \n",
       "     Q3                   41.058982  \n",
       "     Q2                   29.041533  \n",
       "     Q1                   25.508815  \n",
       "2022 FY                   24.714216  \n",
       "     Q3                   20.119795  \n",
       "     Q2                   28.401915  "
      ]
     },
     "execution_count": 52,
     "metadata": {},
     "output_type": "execute_result"
    }
   ],
   "source": [
    "quarterly_financials = [\n",
    "    extract_quarter_financials(q) for q in reports \n",
    "    # if q[\"fiscal_period\"] in [\"Q1\", \"Q2\", \"Q3\", \"Q4\"]\n",
    "]\n",
    "df = pd.DataFrame(quarterly_financials)\n",
    "df = df.set_index([\"year\", \"quarter\"])\n",
    "yoy_change = (df - df.shift(-4)) / df.shift(-4) * 100\n",
    "yoy_change = yoy_change.dropna().rename(columns=lambda x: f\"{x}_yoy_change\")\n",
    "df = pd.concat([df, yoy_change], axis=1)\n",
    "df[\"fiscal_period\"] = df.index.get_level_values(\"quarter\") + df.index.get_level_values(\"year\").astype(str)\n",
    "df[\"pre_tax_profit_margin\"] = df[\"income\"] / df[\"revenue\"] * 100\n",
    "df"
   ]
  },
  {
   "cell_type": "code",
   "execution_count": 47,
   "metadata": {},
   "outputs": [
    {
     "data": {
      "text/html": [
       "<div>\n",
       "<style scoped>\n",
       "    .dataframe tbody tr th:only-of-type {\n",
       "        vertical-align: middle;\n",
       "    }\n",
       "\n",
       "    .dataframe tbody tr th {\n",
       "        vertical-align: top;\n",
       "    }\n",
       "\n",
       "    .dataframe thead th {\n",
       "        text-align: right;\n",
       "    }\n",
       "</style>\n",
       "<table border=\"1\" class=\"dataframe\">\n",
       "  <thead>\n",
       "    <tr style=\"text-align: right;\">\n",
       "      <th></th>\n",
       "      <th></th>\n",
       "      <th>eps_yoy_change</th>\n",
       "      <th>revenue_yoy_change</th>\n",
       "      <th>income_yoy_change</th>\n",
       "    </tr>\n",
       "    <tr>\n",
       "      <th>year</th>\n",
       "      <th>quarter</th>\n",
       "      <th></th>\n",
       "      <th></th>\n",
       "      <th></th>\n",
       "    </tr>\n",
       "  </thead>\n",
       "  <tbody>\n",
       "    <tr>\n",
       "      <th rowspan=\"2\" valign=\"top\">2024</th>\n",
       "      <th>Q2</th>\n",
       "      <td>75.247525</td>\n",
       "      <td>22.100691</td>\n",
       "      <td>62.552459</td>\n",
       "    </tr>\n",
       "    <tr>\n",
       "      <th>Q1</th>\n",
       "      <td>119.909502</td>\n",
       "      <td>27.264793</td>\n",
       "      <td>94.101546</td>\n",
       "    </tr>\n",
       "    <tr>\n",
       "      <th rowspan=\"2\" valign=\"top\">2023</th>\n",
       "      <th>Q4</th>\n",
       "      <td>232.926829</td>\n",
       "      <td>44.731904</td>\n",
       "      <td>201.416786</td>\n",
       "    </tr>\n",
       "    <tr>\n",
       "      <th>Q3</th>\n",
       "      <td>82.186235</td>\n",
       "      <td>18.472001</td>\n",
       "      <td>71.268019</td>\n",
       "    </tr>\n",
       "  </tbody>\n",
       "</table>\n",
       "</div>"
      ],
      "text/plain": [
       "              eps_yoy_change  revenue_yoy_change  income_yoy_change\n",
       "year quarter                                                       \n",
       "2024 Q2            75.247525           22.100691          62.552459\n",
       "     Q1           119.909502           27.264793          94.101546\n",
       "2023 Q4           232.926829           44.731904         201.416786\n",
       "     Q3            82.186235           18.472001          71.268019"
      ]
     },
     "execution_count": 47,
     "metadata": {},
     "output_type": "execute_result"
    }
   ],
   "source": [
    "yoy_change"
   ]
  },
  {
   "cell_type": "code",
   "execution_count": 40,
   "metadata": {},
   "outputs": [
    {
     "data": {
      "text/plain": [
       "22.100690646582702"
      ]
     },
     "execution_count": 40,
     "metadata": {},
     "output_type": "execute_result"
    }
   ],
   "source": [
    "(3.9071 - 3.1999) / 3.1999 * 100"
   ]
  },
  {
   "cell_type": "code",
   "execution_count": 26,
   "metadata": {},
   "outputs": [],
   "source": [
    "def make_bar_plot(\n",
    "    df: pd.DataFrame,\n",
    "    col: str, \n",
    "    title: str, \n",
    "    color=\"green\", \n",
    "    target=7.5,\n",
    "    n_quarters=4\n",
    "):\n",
    "    ax = df.iloc[:n_quarters].plot.bar(x=\"fiscal_period\", y=col, color=color, rot=0)\n",
    "    ax.grid(axis='y', color='gray', linestyle='-', linewidth=0.5, alpha=0.2)\n",
    "    ax.get_legend().remove()\n",
    "    # Remove lines\n",
    "    for spine in ax.spines.values():\n",
    "        spine.set_visible(False)\n",
    "    ax.set_xlabel(\"\")\n",
    "    ax.set_title(title)\n",
    "    ax.axhline(target, color='red', linewidth=0.5, linestyle='--')\n",
    "    ax.tick_params(length=0)\n",
    "    ax.set_ylim()\n",
    "    ax.set_yticklabels([f\"{int(x)}%\" for x in ax.get_yticks()])\n",
    "    for container in ax.containers:\n",
    "        ax.bar_label(container, fmt='%.1f%%', label_type='edge')"
   ]
  },
  {
   "cell_type": "code",
   "execution_count": 27,
   "metadata": {},
   "outputs": [
    {
     "name": "stderr",
     "output_type": "stream",
     "text": [
      "/var/folders/rw/8p8g2qln5h7_f_02pz80mnl80000gn/T/ipykernel_11276/1760033142.py:20: UserWarning: set_ticklabels() should only be used with a fixed number of ticks, i.e. after set_ticks() or using a FixedLocator.\n",
      "  ax.set_yticklabels([f\"{int(x)}%\" for x in ax.get_yticks()])\n"
     ]
    },
    {
     "data": {
      "image/png": "[encoded data removed]",
      "text/plain": [
       "<Figure size 640x480 with 1 Axes>"
      ]
     },
     "metadata": {},
     "output_type": "display_data"
    }
   ],
   "source": [
    "# Revenue YoY\n",
    "make_bar_plot(df, \"revenue_yoy_change\", \"Revenue YoY Change (%)\", color=\"green\", target=7.5)"
   ]
  },
  {
   "cell_type": "code",
   "execution_count": 28,
   "metadata": {},
   "outputs": [
    {
     "name": "stderr",
     "output_type": "stream",
     "text": [
      "/var/folders/rw/8p8g2qln5h7_f_02pz80mnl80000gn/T/ipykernel_11276/1760033142.py:20: UserWarning: set_ticklabels() should only be used with a fixed number of ticks, i.e. after set_ticks() or using a FixedLocator.\n",
      "  ax.set_yticklabels([f\"{int(x)}%\" for x in ax.get_yticks()])\n"
     ]
    },
    {
     "data": {
      "image/png": "[encoded data removed]",
      "text/plain": [
       "<Figure size 640x480 with 1 Axes>"
      ]
     },
     "metadata": {},
     "output_type": "display_data"
    }
   ],
   "source": [
    "# PTPM\n",
    "make_bar_plot(df, \"pre_tax_profit_margin\", \"Pre-tax Profit Margin (%)\", color=\"olive\", target=34)"
   ]
  },
  {
   "cell_type": "code",
   "execution_count": 29,
   "metadata": {},
   "outputs": [
    {
     "name": "stderr",
     "output_type": "stream",
     "text": [
      "/var/folders/rw/8p8g2qln5h7_f_02pz80mnl80000gn/T/ipykernel_11276/1760033142.py:20: UserWarning: set_ticklabels() should only be used with a fixed number of ticks, i.e. after set_ticks() or using a FixedLocator.\n",
      "  ax.set_yticklabels([f\"{int(x)}%\" for x in ax.get_yticks()])\n"
     ]
    },
    {
     "data": {
      "image/png": "[encoded data removed]",
      "text/plain": [
       "<Figure size 640x480 with 1 Axes>"
      ]
     },
     "metadata": {},
     "output_type": "display_data"
    }
   ],
   "source": [
    "# PTPM\n",
    "make_bar_plot(df, \"eps_yoy_change\", \"EPS YoY change (%)\", color=\"royalblue\", target=12)"
   ]
  },
  {
   "cell_type": "code",
   "execution_count": 30,
   "metadata": {},
   "outputs": [
    {
     "data": {
      "text/html": [
       "<div>\n",
       "<style scoped>\n",
       "    .dataframe tbody tr th:only-of-type {\n",
       "        vertical-align: middle;\n",
       "    }\n",
       "\n",
       "    .dataframe tbody tr th {\n",
       "        vertical-align: top;\n",
       "    }\n",
       "\n",
       "    .dataframe thead th {\n",
       "        text-align: right;\n",
       "    }\n",
       "</style>\n",
       "<table border=\"1\" class=\"dataframe\">\n",
       "  <thead>\n",
       "    <tr style=\"text-align: right;\">\n",
       "      <th></th>\n",
       "      <th>Low</th>\n",
       "      <th>High</th>\n",
       "    </tr>\n",
       "  </thead>\n",
       "  <tbody>\n",
       "    <tr>\n",
       "      <th>Buy</th>\n",
       "      <td>10</td>\n",
       "      <td>10</td>\n",
       "    </tr>\n",
       "    <tr>\n",
       "      <th>Hold</th>\n",
       "      <td>20</td>\n",
       "      <td>10</td>\n",
       "    </tr>\n",
       "    <tr>\n",
       "      <th>Sell</th>\n",
       "      <td>30</td>\n",
       "      <td>10</td>\n",
       "    </tr>\n",
       "  </tbody>\n",
       "</table>\n",
       "</div>"
      ],
      "text/plain": [
       "      Low  High\n",
       "Buy    10    10\n",
       "Hold   20    10\n",
       "Sell   30    10"
      ]
     },
     "execution_count": 30,
     "metadata": {},
     "output_type": "execute_result"
    },
    {
     "data": {
      "image/png": "[encoded data removed]",
      "text/plain": [
       "<Figure size 640x480 with 1 Axes>"
      ]
     },
     "metadata": {},
     "output_type": "display_data"
    }
   ],
   "source": [
    "price = 15\n",
    "ranges = pd.DataFrame(\n",
    "    [[10, 10], [20, 10], [30, 10]],\n",
    "    columns=[\"Low\", \"High\"],\n",
    "    index=[\"Buy\", \"Hold\", \"Sell\"],\n",
    "    \n",
    ")\n",
    "ax = ranges.plot.bar(stacked=True, color=[(0, 0, 0, 0), \"grey\"], \n",
    "rot=0)\n",
    "ax.get_legend().remove()\n",
    "ax.grid(axis='y', color='gray', linestyle='-', linewidth=0.5, alpha=0.2)\n",
    "for container in ax.containers:\n",
    "    ax.bar_label(container, fmt='$%.1f', label_type='edge')\n",
    "for spine in ax.spines.values():\n",
    "    spine.set_visible(False)\n",
    "ax.tick_params(length=0)\n",
    "ax.axhline(price, color='black', linewidth=0.5)\n",
    "ax.text(2, price, f\"Current price (${price})\", va='center', ha='center', backgroundcolor='white')\n",
    "ranges"
   ]
  }
 ],
 "metadata": {
  "kernelspec": {
   "display_name": ".venv",
   "language": "python",
   "name": "python3"
  },
  "language_info": {
   "codemirror_mode": {
    "name": "ipython",
    "version": 3
   },
   "file_extension": ".py",
   "mimetype": "text/x-python",
   "name": "python",
   "nbconvert_exporter": "python",
   "pygments_lexer": "ipython3",
   "version": "3.11.6"
  }
 },
 "nbformat": 4,
 "nbformat_minor": 2
}
